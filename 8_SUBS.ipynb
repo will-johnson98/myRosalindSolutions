{
 "cells": [
  {
   "cell_type": "code",
   "execution_count": 89,
   "id": "violent-bubble",
   "metadata": {},
   "outputs": [],
   "source": [
    "# Rosalind_SUBS: Finding a Motif in DNA\n",
    "# http://rosalind.info/problems/subs/\n",
    "# Will Johnson"
   ]
  },
  {
   "cell_type": "code",
   "execution_count": 90,
   "id": "asian-girlfriend",
   "metadata": {},
   "outputs": [],
   "source": [
    "#Input the Data\n",
    "r = []\n",
    "with open('rosalind_subs.txt', 'rt') as myfile:\n",
    "    for chunk in myfile:\n",
    "        r.append(chunk)\n",
    "s = r[0].rstrip(\"\\n\")\n",
    "t = r[1].rstrip(\"\\n\")"
   ]
  },
  {
   "cell_type": "code",
   "execution_count": 91,
   "id": "hawaiian-massachusetts",
   "metadata": {},
   "outputs": [
    {
     "name": "stdout",
     "output_type": "stream",
     "text": [
      "2 9 115 176 183 190 226 242 249 301 386 426 538 609 660 686 734 772 794\n"
     ]
    }
   ],
   "source": [
    "#Find Motif/Repeat Locations\n",
    "motif = []\n",
    "i = 0\n",
    "for i in range(len(s)):\n",
    "    if s[i:i+len(t)] == t:\n",
    "        motif.append(i+1)\n",
    "print(*motif)"
   ]
  }
 ],
 "metadata": {
  "kernelspec": {
   "display_name": "Python 3",
   "language": "python",
   "name": "python3"
  },
  "language_info": {
   "codemirror_mode": {
    "name": "ipython",
    "version": 3
   },
   "file_extension": ".py",
   "mimetype": "text/x-python",
   "name": "python",
   "nbconvert_exporter": "python",
   "pygments_lexer": "ipython3",
   "version": "3.9.2"
  }
 },
 "nbformat": 4,
 "nbformat_minor": 5
}
