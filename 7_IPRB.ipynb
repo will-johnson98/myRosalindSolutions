{
 "cells": [
  {
   "cell_type": "code",
   "execution_count": 1,
   "id": "pursuant-iceland",
   "metadata": {},
   "outputs": [],
   "source": [
    "#Rosalind_IPRB\n",
    "#Will Johnson"
   ]
  },
  {
   "cell_type": "code",
   "execution_count": 93,
   "id": "novel-factory",
   "metadata": {},
   "outputs": [],
   "source": [
    "def mendel(k, m, n):\n",
    "    o = k+m+n\n",
    "    N = n/o\n",
    "    M = m/o\n",
    "    No = (n-1)/(o-1)\n",
    "    Mo = (m-1)/(o-1)\n",
    "    prob = 1 - (N * No) - 0.5*(N * (m/(o-1))) - 0.5*(M * (n/(o-1))) - 0.25*(M * Mo)\n",
    "    return prob"
   ]
  },
  {
   "cell_type": "code",
   "execution_count": 95,
   "id": "dental-advocacy",
   "metadata": {},
   "outputs": [
    {
     "name": "stdout",
     "output_type": "stream",
     "text": [
      "0.7833333333333333\n"
     ]
    }
   ],
   "source": [
    "print(mendel(2, 2, 2))"
   ]
  },
  {
   "cell_type": "code",
   "execution_count": 96,
   "id": "sorted-guide",
   "metadata": {},
   "outputs": [
    {
     "name": "stdout",
     "output_type": "stream",
     "text": [
      "0.6911764705882353\n"
     ]
    }
   ],
   "source": [
    "print(mendel(20, 21, 28))"
   ]
  }
 ],
 "metadata": {
  "kernelspec": {
   "display_name": "Python 3",
   "language": "python",
   "name": "python3"
  },
  "language_info": {
   "codemirror_mode": {
    "name": "ipython",
    "version": 3
   },
   "file_extension": ".py",
   "mimetype": "text/x-python",
   "name": "python",
   "nbconvert_exporter": "python",
   "pygments_lexer": "ipython3",
   "version": "3.9.2"
  }
 },
 "nbformat": 4,
 "nbformat_minor": 5
}
